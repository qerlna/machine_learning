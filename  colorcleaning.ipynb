{
 "cells": [
  {
   "cell_type": "code",
   "execution_count": 48,
   "id": "0bf1bd9e-32c0-47d2-af4f-5cd941ea98fc",
   "metadata": {},
   "outputs": [],
   "source": [
    "import pandas as pd"
   ]
  },
  {
   "cell_type": "code",
   "execution_count": 49,
   "id": "aa9bc59a-98c1-4b2f-b9ff-62e431c6cc3b",
   "metadata": {},
   "outputs": [],
   "source": [
    "df = pd.read_csv(\"ML.csv\", delimiter=\";\")\n"
   ]
  },
  {
   "cell_type": "code",
   "execution_count": 50,
   "id": "988b4fe0-6abc-48ac-811e-a356cdf21c97",
   "metadata": {},
   "outputs": [],
   "source": [
    "# 1. Удаляем дубликаты\n",
    "df = df.drop_duplicates()"
   ]
  },
  {
   "cell_type": "code",
   "execution_count": 51,
   "id": "9637b089-dd43-4e04-810c-67e89fdb0c2e",
   "metadata": {},
   "outputs": [],
   "source": [
    "# 3. Обрабатываем пропущенные значения\n",
    "df = df.fillna('')  # Заменяем NaN на пустые строки"
   ]
  },
  {
   "cell_type": "code",
   "execution_count": 52,
   "id": "e1756251-c2cf-4377-80d5-eb90c9559bd9",
   "metadata": {},
   "outputs": [],
   "source": [
    "df['Gender'] = df['Gender'].replace({'Male': 'M', 'Female': 'F'})"
   ]
  },
  {
   "cell_type": "code",
   "execution_count": 57,
   "id": "5b869629-549a-42a4-a77c-ba31d160d58b",
   "metadata": {},
   "outputs": [
    {
     "name": "stdout",
     "output_type": "stream",
     "text": [
      "0    1\n",
      "1    1\n",
      "2    1\n",
      "3    0\n",
      "4    1\n",
      "Name: Confident, dtype: int64\n"
     ]
    }
   ],
   "source": [
    "print(df['Confident'].head())\n"
   ]
  },
  {
   "cell_type": "code",
   "execution_count": 53,
   "id": "71abf321-7ca9-44ee-9a90-c6664d405021",
   "metadata": {},
   "outputs": [],
   "source": [
    "# 5. Сбрасываем индексы после очистки\n",
    "df = df.reset_index(drop=True)"
   ]
  },
  {
   "cell_type": "code",
   "execution_count": 58,
   "id": "5c9f8d45-f3ba-458a-8af1-fac3ca2c1f5d",
   "metadata": {},
   "outputs": [
    {
     "name": "stdout",
     "output_type": "stream",
     "text": [
      "[1 0]\n"
     ]
    }
   ],
   "source": [
    "print(df['Confident'].unique())"
   ]
  },
  {
   "cell_type": "code",
   "execution_count": 60,
   "id": "e8c31b3b-f6d0-4a42-824c-f56d5efa0005",
   "metadata": {},
   "outputs": [],
   "source": [
    "# Приводим столбец к строковому типу перед использованием .str\n",
    "df['Confident'] = df['Confident'].astype(str).str.strip()\n",
    "df['Confident'] = df['Confident'].replace({'Yes': 1, 'No': 0}).astype('int')\n"
   ]
  },
  {
   "cell_type": "code",
   "execution_count": 61,
   "id": "3cc3eedc-382c-4afd-904a-634e442d7415",
   "metadata": {},
   "outputs": [],
   "source": [
    "# Сохраняем чистый файл\n",
    "df.to_csv(\"ML.csv\", index=False)"
   ]
  },
  {
   "cell_type": "code",
   "execution_count": 62,
   "id": "c318b93b-c166-456d-b991-e78fb4274c28",
   "metadata": {},
   "outputs": [
    {
     "name": "stdout",
     "output_type": "stream",
     "text": [
      "Данные очищены и сохранены в 'colors_cleaned.csv'\n"
     ]
    }
   ],
   "source": [
    "print(\"Данные очищены и сохранены в 'colors_cleaned.csv'\")\n"
   ]
  },
  {
   "cell_type": "code",
   "execution_count": null,
   "id": "3a6899dc-3c95-4586-b598-e5bdd7afc2d1",
   "metadata": {},
   "outputs": [],
   "source": []
  },
  {
   "cell_type": "code",
   "execution_count": null,
   "id": "07512a6d-2f30-4725-bef9-9e41c52a3e47",
   "metadata": {},
   "outputs": [],
   "source": []
  }
 ],
 "metadata": {
  "kernelspec": {
   "display_name": "Python 3 (ipykernel)",
   "language": "python",
   "name": "python3"
  },
  "language_info": {
   "codemirror_mode": {
    "name": "ipython",
    "version": 3
   },
   "file_extension": ".py",
   "mimetype": "text/x-python",
   "name": "python",
   "nbconvert_exporter": "python",
   "pygments_lexer": "ipython3",
   "version": "3.11.0"
  }
 },
 "nbformat": 4,
 "nbformat_minor": 5
}
